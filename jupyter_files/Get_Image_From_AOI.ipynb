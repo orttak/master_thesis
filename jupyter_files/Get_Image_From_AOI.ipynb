{
 "cells": [
  {
   "cell_type": "code",
   "execution_count": 1,
   "metadata": {},
   "outputs": [],
   "source": [
    "from datetime import date\n",
    "import gdal\n",
    "import time\n",
    "import requests\n",
    "import geopandas as gpd\n",
    "import pandas as pd\n",
    "import numpy as np\n",
    "import folium\n",
    "import os, shutil\n",
    "from glob import glob\n",
    "%matplotlib inline  \n",
    "from shapely.geometry import Polygon\n",
    "import json\n",
    "\n"
   ]
  },
  {
   "cell_type": "code",
   "execution_count": 2,
   "metadata": {
    "scrolled": true
   },
   "outputs": [],
   "source": [
    "west=gpd.read_file('../shp/Turkey_border.shp')"
   ]
  },
  {
   "cell_type": "code",
   "execution_count": 5,
   "metadata": {},
   "outputs": [
    {
     "data": {
      "text/plain": [
       "<matplotlib.axes._subplots.AxesSubplot at 0x7fea6d14a940>"
      ]
     },
     "execution_count": 5,
     "metadata": {},
     "output_type": "execute_result"
    },
    {
     "data": {
      "image/png": "[encoded data removed]",
      "text/plain": [
       "<Figure size 432x288 with 1 Axes>"
      ]
     },
     "metadata": {
      "needs_background": "light"
     },
     "output_type": "display_data"
    }
   ],
   "source": [
    "west.plot()"
   ]
  },
  {
   "cell_type": "code",
   "execution_count": 35,
   "metadata": {},
   "outputs": [],
   "source": [
    "#data from http://geojson.io \n",
    "data={\n",
    "  \"type\": \"FeatureCollection\",\n",
    "  \"features\": [\n",
    "    {\n",
    "      \"type\": \"Feature\",\n",
    "      \"properties\": {},\n",
    "      \"geometry\": {\n",
    "        \"type\": \"Polygon\",\n",
    "        \"coordinates\": [\n",
    "          [\n",
    "            [\n",
    "              38.54827880859375,\n",
    "              36.90378362619561\n",
    "            ],\n",
    "            [\n",
    "              40.0067138671875,\n",
    "              36.90378362619561\n",
    "            ],\n",
    "            [\n",
    "              40.0067138671875,\n",
    "              37.89219554724437\n",
    "            ],\n",
    "            [\n",
    "              38.54827880859375,\n",
    "              37.89219554724437\n",
    "            ],\n",
    "            [\n",
    "              38.54827880859375,\n",
    "              36.90378362619561\n",
    "            ]\n",
    "          ]\n",
    "        ]\n",
    "      }\n",
    "    }\n",
    "  ]\n",
    "}"
   ]
  },
  {
   "cell_type": "code",
   "execution_count": 36,
   "metadata": {},
   "outputs": [],
   "source": [
    "datajson=json.dumps(data)"
   ]
  },
  {
   "cell_type": "code",
   "execution_count": 37,
   "metadata": {},
   "outputs": [
    {
     "data": {
      "text/plain": [
       "<matplotlib.axes._subplots.AxesSubplot at 0x7f0461176f28>"
      ]
     },
     "execution_count": 37,
     "metadata": {},
     "output_type": "execute_result"
    },
    {
     "data": {
      "image/png": "[encoded data removed]",
      "text/plain": [
       "<Figure size 432x288 with 1 Axes>"
      ]
     },
     "metadata": {
      "needs_background": "light"
     },
     "output_type": "display_data"
    }
   ],
   "source": [
    "west=gpd.read_file(datajson)\n",
    "west.plot()"
   ]
  },
  {
   "cell_type": "code",
   "execution_count": 38,
   "metadata": {},
   "outputs": [
    {
     "data": {
      "text/plain": [
       "{'init': 'epsg:4326'}"
      ]
     },
     "execution_count": 38,
     "metadata": {},
     "output_type": "execute_result"
    }
   ],
   "source": [
    "west.crs"
   ]
  },
  {
   "cell_type": "code",
   "execution_count": 39,
   "metadata": {},
   "outputs": [],
   "source": [
    "wrs = gpd.GeoDataFrame.from_file(\"../shp/WRS2_descending.shp\")"
   ]
  },
  {
   "cell_type": "code",
   "execution_count": 40,
   "metadata": {},
   "outputs": [
    {
     "data": {
      "text/plain": [
       "28892"
      ]
     },
     "execution_count": 40,
     "metadata": {},
     "output_type": "execute_result"
    }
   ],
   "source": [
    "len(wrs)"
   ]
  },
  {
   "cell_type": "code",
   "execution_count": 41,
   "metadata": {},
   "outputs": [],
   "source": [
    "#intersect target area with landsat path-row \n",
    "wrs_intersection = wrs[wrs.intersects(west.geometry[0])]"
   ]
  },
  {
   "cell_type": "code",
   "execution_count": 42,
   "metadata": {},
   "outputs": [
    {
     "data": {
      "text/html": [
       "<div>\n",
       "<style scoped>\n",
       "    .dataframe tbody tr th:only-of-type {\n",
       "        vertical-align: middle;\n",
       "    }\n",
       "\n",
       "    .dataframe tbody tr th {\n",
       "        vertical-align: top;\n",
       "    }\n",
       "\n",
       "    .dataframe thead th {\n",
       "        text-align: right;\n",
       "    }\n",
       "</style>\n",
       "<table border=\"1\" class=\"dataframe\">\n",
       "  <thead>\n",
       "    <tr style=\"text-align: right;\">\n",
       "      <th></th>\n",
       "      <th>AREA</th>\n",
       "      <th>PERIMETER</th>\n",
       "      <th>PR_</th>\n",
       "      <th>PR_ID</th>\n",
       "      <th>RINGS_OK</th>\n",
       "      <th>RINGS_NOK</th>\n",
       "      <th>PATH</th>\n",
       "      <th>ROW</th>\n",
       "      <th>MODE</th>\n",
       "      <th>SEQUENCE</th>\n",
       "      <th>WRSPR</th>\n",
       "      <th>PR</th>\n",
       "      <th>ACQDayL7</th>\n",
       "      <th>ACQDayL8</th>\n",
       "      <th>geometry</th>\n",
       "    </tr>\n",
       "  </thead>\n",
       "  <tbody>\n",
       "    <tr>\n",
       "      <td>3133</td>\n",
       "      <td>3.22740</td>\n",
       "      <td>7.29533</td>\n",
       "      <td>2762.0</td>\n",
       "      <td>2762.0</td>\n",
       "      <td>1</td>\n",
       "      <td>0</td>\n",
       "      <td>173</td>\n",
       "      <td>34</td>\n",
       "      <td>D</td>\n",
       "      <td>4746</td>\n",
       "      <td>173034</td>\n",
       "      <td>173034</td>\n",
       "      <td>2</td>\n",
       "      <td>10</td>\n",
       "      <td>POLYGON ((39.36965344531275 36.66675883503565,...</td>\n",
       "    </tr>\n",
       "    <tr>\n",
       "      <td>19377</td>\n",
       "      <td>3.22725</td>\n",
       "      <td>7.29513</td>\n",
       "      <td>2762.0</td>\n",
       "      <td>2762.0</td>\n",
       "      <td>1</td>\n",
       "      <td>0</td>\n",
       "      <td>172</td>\n",
       "      <td>34</td>\n",
       "      <td>D</td>\n",
       "      <td>37234</td>\n",
       "      <td>172034</td>\n",
       "      <td>172034</td>\n",
       "      <td>11</td>\n",
       "      <td>3</td>\n",
       "      <td>POLYGON ((40.91465316013049 36.66675792197824,...</td>\n",
       "    </tr>\n",
       "    <tr>\n",
       "      <td>19378</td>\n",
       "      <td>3.16913</td>\n",
       "      <td>7.21705</td>\n",
       "      <td>2763.0</td>\n",
       "      <td>2763.0</td>\n",
       "      <td>1</td>\n",
       "      <td>0</td>\n",
       "      <td>172</td>\n",
       "      <td>35</td>\n",
       "      <td>D</td>\n",
       "      <td>37235</td>\n",
       "      <td>172035</td>\n",
       "      <td>172035</td>\n",
       "      <td>11</td>\n",
       "      <td>3</td>\n",
       "      <td>POLYGON ((38.46678991078875 35.48569432422082,...</td>\n",
       "    </tr>\n",
       "  </tbody>\n",
       "</table>\n",
       "</div>"
      ],
      "text/plain": [
       "          AREA  PERIMETER     PR_   PR_ID  RINGS_OK  RINGS_NOK  PATH  ROW  \\\n",
       "3133   3.22740    7.29533  2762.0  2762.0         1          0   173   34   \n",
       "19377  3.22725    7.29513  2762.0  2762.0         1          0   172   34   \n",
       "19378  3.16913    7.21705  2763.0  2763.0         1          0   172   35   \n",
       "\n",
       "      MODE  SEQUENCE   WRSPR      PR ACQDayL7 ACQDayL8  \\\n",
       "3133     D      4746  173034  173034        2       10   \n",
       "19377    D     37234  172034  172034       11        3   \n",
       "19378    D     37235  172035  172035       11        3   \n",
       "\n",
       "                                                geometry  \n",
       "3133   POLYGON ((39.36965344531275 36.66675883503565,...  \n",
       "19377  POLYGON ((40.91465316013049 36.66675792197824,...  \n",
       "19378  POLYGON ((38.46678991078875 35.48569432422082,...  "
      ]
     },
     "execution_count": 42,
     "metadata": {},
     "output_type": "execute_result"
    }
   ],
   "source": [
    "wrs_intersection"
   ]
  },
  {
   "cell_type": "code",
   "execution_count": 43,
   "metadata": {},
   "outputs": [
    {
     "data": {
      "text/plain": [
       "3"
      ]
     },
     "execution_count": 43,
     "metadata": {},
     "output_type": "execute_result"
    }
   ],
   "source": [
    "len(wrs_intersection)"
   ]
  },
  {
   "cell_type": "code",
   "execution_count": 44,
   "metadata": {},
   "outputs": [],
   "source": [
    "paths, rows = wrs_intersection['PATH'].values, wrs_intersection['ROW'].values"
   ]
  },
  {
   "cell_type": "code",
   "execution_count": 45,
   "metadata": {},
   "outputs": [
    {
     "data": {
      "text/plain": [
       "(array([173, 172, 172]), array([34, 34, 35]))"
      ]
     },
     "execution_count": 45,
     "metadata": {},
     "output_type": "execute_result"
    }
   ],
   "source": [
    "paths, rows"
   ]
  },
  {
   "cell_type": "code",
   "execution_count": 46,
   "metadata": {},
   "outputs": [],
   "source": [
    "paths_rows=[]\n",
    "for i in range(len(paths)):\n",
    "    intersectimage=[paths[i],rows[i]]\n",
    "    paths_rows.append(intersectimage)"
   ]
  },
  {
   "cell_type": "code",
   "execution_count": 47,
   "metadata": {},
   "outputs": [
    {
     "data": {
      "text/html": [
       "<div style=\"width:100%;\"><div style=\"position:relative;width:100%;height:0;padding-bottom:60%;\"><iframe src=\"data:text/html;charset=utf-8;base64,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\" style=\"position:absolute;width:100%;height:100%;left:0;top:0;border:none !important;\" allowfullscreen webkitallowfullscreen mozallowfullscreen></iframe></div></div>"
      ],
      "text/plain": [
       "<folium.folium.Map at 0x7f046117bc50>"
      ]
     },
     "execution_count": 47,
     "metadata": {},
     "output_type": "execute_result"
    }
   ],
   "source": [
    "# Get the center of the map\n",
    "xy = np.asarray(west.centroid[0].xy).squeeze()\n",
    "center = list(xy[::-1])\n",
    "zoom = 8\n",
    "# Create the most basic OSM folium map\n",
    "m = folium.Map(location=center, zoom_start=zoom)\n",
    "# Add the bounds GeoDataFrame in red\n",
    "m.add_child(folium.GeoJson(west.__geo_interface__, name='Area of Study', \n",
    "                           style_function=lambda x: {'color': 'red', 'alpha': 0}))\n",
    "m"
   ]
  },
  {
   "cell_type": "code",
   "execution_count": 48,
   "metadata": {},
   "outputs": [],
   "source": [
    "# Iterate through each Polygon of paths and rows intersecting the area\n",
    "for i, row in wrs_intersection.iterrows():\n",
    "\n",
    "    # Create a string for the name containing the path and row of this Polygon\n",
    "    name = 'path: %03d, row: %03d' % (row.PATH, row.ROW)\n",
    "    # Create the folium geometry of this Polygon \n",
    "    g = folium.GeoJson(row.geometry.__geo_interface__, name=name)\n",
    "    # Add a folium Popup object with the name string\n",
    "    g.add_child(folium.Popup(name))\n",
    "    # Add the object to the map\n",
    "    g.add_to(m)\n",
    "\n",
    "    "
   ]
  },
  {
   "cell_type": "code",
   "execution_count": 49,
   "metadata": {},
   "outputs": [
    {
     "data": {
      "text/html": [
       "<div style=\"width:100%;\"><div style=\"position:relative;width:100%;height:0;padding-bottom:60%;\"><iframe src=\"data:text/html;charset=utf-8;base64,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\" style=\"position:absolute;width:100%;height:100%;left:0;top:0;border:none !important;\" allowfullscreen webkitallowfullscreen mozallowfullscreen></iframe></div></div>"
      ],
      "text/plain": [
       "<folium.folium.Map at 0x7f046117bc50>"
      ]
     },
     "execution_count": 49,
     "metadata": {},
     "output_type": "execute_result"
    }
   ],
   "source": [
    "folium.LayerControl().add_to(m)\n",
    "m"
   ]
  },
  {
   "cell_type": "code",
   "execution_count": 50,
   "metadata": {},
   "outputs": [],
   "source": [
    "s3_scenes = pd.read_csv('http://landsat-pds.s3.amazonaws.com/c1/L8/scene_list.gz', compression='gzip')"
   ]
  },
  {
   "cell_type": "code",
   "execution_count": 51,
   "metadata": {},
   "outputs": [
    {
     "data": {
      "text/html": [
       "<div>\n",
       "<style scoped>\n",
       "    .dataframe tbody tr th:only-of-type {\n",
       "        vertical-align: middle;\n",
       "    }\n",
       "\n",
       "    .dataframe tbody tr th {\n",
       "        vertical-align: top;\n",
       "    }\n",
       "\n",
       "    .dataframe thead th {\n",
       "        text-align: right;\n",
       "    }\n",
       "</style>\n",
       "<table border=\"1\" class=\"dataframe\">\n",
       "  <thead>\n",
       "    <tr style=\"text-align: right;\">\n",
       "      <th></th>\n",
       "      <th>productId</th>\n",
       "      <th>entityId</th>\n",
       "      <th>acquisitionDate</th>\n",
       "      <th>cloudCover</th>\n",
       "      <th>processingLevel</th>\n",
       "      <th>path</th>\n",
       "      <th>row</th>\n",
       "      <th>min_lat</th>\n",
       "      <th>min_lon</th>\n",
       "      <th>max_lat</th>\n",
       "      <th>max_lon</th>\n",
       "      <th>download_url</th>\n",
       "    </tr>\n",
       "  </thead>\n",
       "  <tbody>\n",
       "    <tr>\n",
       "      <td>0</td>\n",
       "      <td>LC08_L1TP_149039_20170411_20170415_01_T1</td>\n",
       "      <td>LC81490392017101LGN00</td>\n",
       "      <td>2017-04-11 05:36:29.349932</td>\n",
       "      <td>0.00</td>\n",
       "      <td>L1TP</td>\n",
       "      <td>149</td>\n",
       "      <td>39</td>\n",
       "      <td>29.22165</td>\n",
       "      <td>72.41205</td>\n",
       "      <td>31.34742</td>\n",
       "      <td>74.84666</td>\n",
       "      <td>https://s3-us-west-2.amazonaws.com/landsat-pds...</td>\n",
       "    </tr>\n",
       "    <tr>\n",
       "      <td>1</td>\n",
       "      <td>LC08_L1TP_012001_20170411_20170415_01_T1</td>\n",
       "      <td>LC80120012017101LGN00</td>\n",
       "      <td>2017-04-11 15:14:40.001201</td>\n",
       "      <td>0.15</td>\n",
       "      <td>L1TP</td>\n",
       "      <td>12</td>\n",
       "      <td>1</td>\n",
       "      <td>79.51504</td>\n",
       "      <td>-22.06995</td>\n",
       "      <td>81.90314</td>\n",
       "      <td>-7.44339</td>\n",
       "      <td>https://s3-us-west-2.amazonaws.com/landsat-pds...</td>\n",
       "    </tr>\n",
       "    <tr>\n",
       "      <td>2</td>\n",
       "      <td>LC08_L1TP_012002_20170411_20170415_01_T1</td>\n",
       "      <td>LC80120022017101LGN00</td>\n",
       "      <td>2017-04-11 15:15:03.871058</td>\n",
       "      <td>0.38</td>\n",
       "      <td>L1TP</td>\n",
       "      <td>12</td>\n",
       "      <td>2</td>\n",
       "      <td>78.74882</td>\n",
       "      <td>-29.24387</td>\n",
       "      <td>81.14549</td>\n",
       "      <td>-15.04330</td>\n",
       "      <td>https://s3-us-west-2.amazonaws.com/landsat-pds...</td>\n",
       "    </tr>\n",
       "    <tr>\n",
       "      <td>3</td>\n",
       "      <td>LC08_L1TP_012010_20170411_20170415_01_T1</td>\n",
       "      <td>LC80120102017101LGN00</td>\n",
       "      <td>2017-04-11 15:18:14.918879</td>\n",
       "      <td>0.02</td>\n",
       "      <td>L1TP</td>\n",
       "      <td>12</td>\n",
       "      <td>10</td>\n",
       "      <td>69.67856</td>\n",
       "      <td>-56.04655</td>\n",
       "      <td>72.02949</td>\n",
       "      <td>-48.71678</td>\n",
       "      <td>https://s3-us-west-2.amazonaws.com/landsat-pds...</td>\n",
       "    </tr>\n",
       "    <tr>\n",
       "      <td>4</td>\n",
       "      <td>LC08_L1TP_012011_20170411_20170415_01_T1</td>\n",
       "      <td>LC80120112017101LGN00</td>\n",
       "      <td>2017-04-11 15:18:38.780265</td>\n",
       "      <td>10.65</td>\n",
       "      <td>L1TP</td>\n",
       "      <td>12</td>\n",
       "      <td>11</td>\n",
       "      <td>68.38187</td>\n",
       "      <td>-57.33186</td>\n",
       "      <td>70.76840</td>\n",
       "      <td>-51.13822</td>\n",
       "      <td>https://s3-us-west-2.amazonaws.com/landsat-pds...</td>\n",
       "    </tr>\n",
       "  </tbody>\n",
       "</table>\n",
       "</div>"
      ],
      "text/plain": [
       "                                  productId               entityId  \\\n",
       "0  LC08_L1TP_149039_20170411_20170415_01_T1  LC81490392017101LGN00   \n",
       "1  LC08_L1TP_012001_20170411_20170415_01_T1  LC80120012017101LGN00   \n",
       "2  LC08_L1TP_012002_20170411_20170415_01_T1  LC80120022017101LGN00   \n",
       "3  LC08_L1TP_012010_20170411_20170415_01_T1  LC80120102017101LGN00   \n",
       "4  LC08_L1TP_012011_20170411_20170415_01_T1  LC80120112017101LGN00   \n",
       "\n",
       "              acquisitionDate  cloudCover processingLevel  path  row  \\\n",
       "0  2017-04-11 05:36:29.349932        0.00            L1TP   149   39   \n",
       "1  2017-04-11 15:14:40.001201        0.15            L1TP    12    1   \n",
       "2  2017-04-11 15:15:03.871058        0.38            L1TP    12    2   \n",
       "3  2017-04-11 15:18:14.918879        0.02            L1TP    12   10   \n",
       "4  2017-04-11 15:18:38.780265       10.65            L1TP    12   11   \n",
       "\n",
       "    min_lat   min_lon   max_lat   max_lon  \\\n",
       "0  29.22165  72.41205  31.34742  74.84666   \n",
       "1  79.51504 -22.06995  81.90314  -7.44339   \n",
       "2  78.74882 -29.24387  81.14549 -15.04330   \n",
       "3  69.67856 -56.04655  72.02949 -48.71678   \n",
       "4  68.38187 -57.33186  70.76840 -51.13822   \n",
       "\n",
       "                                        download_url  \n",
       "0  https://s3-us-west-2.amazonaws.com/landsat-pds...  \n",
       "1  https://s3-us-west-2.amazonaws.com/landsat-pds...  \n",
       "2  https://s3-us-west-2.amazonaws.com/landsat-pds...  \n",
       "3  https://s3-us-west-2.amazonaws.com/landsat-pds...  \n",
       "4  https://s3-us-west-2.amazonaws.com/landsat-pds...  "
      ]
     },
     "execution_count": 51,
     "metadata": {},
     "output_type": "execute_result"
    }
   ],
   "source": [
    "s3_scenes.head()\n"
   ]
  },
  {
   "cell_type": "code",
   "execution_count": 52,
   "metadata": {},
   "outputs": [],
   "source": [
    "min_date='2018-07-01'\n",
    "max_date='2018-07-30'"
   ]
  },
  {
   "cell_type": "code",
   "execution_count": 53,
   "metadata": {
    "scrolled": true
   },
   "outputs": [
    {
     "name": "stdout",
     "output_type": "stream",
     "text": [
      "Path: 173 Row: 34\n",
      " Found 2 images\n",
      "\n",
      "Path: 172 Row: 34\n",
      " Found 2 images\n",
      "\n",
      "Path: 172 Row: 35\n",
      " Found 3 images\n",
      "\n"
     ]
    }
   ],
   "source": [
    "# Empty list to add the images\n",
    "bulk_list = []\n",
    "\n",
    "# Iterate through paths and rows\n",
    "for path, row in zip(paths, rows):\n",
    "\n",
    "    print('Path:',path, 'Row:', row)\n",
    "\n",
    "    # Filter the Landsat Amazon S3 table for images matching path, row, cloudcover and processing state.\n",
    "    scenes = s3_scenes[(s3_scenes.path == path) & (s3_scenes.row == row) &\n",
    "                       ((s3_scenes['acquisitionDate']>=min_date )&(s3_scenes['acquisitionDate']<=max_date ))&\n",
    "                       (s3_scenes.cloudCover <= 80) & \n",
    "                       (~s3_scenes.productId.str.contains('_T2')) &\n",
    "                       (~s3_scenes.productId.str.contains('_RT'))]\n",
    "    print(' Found {} images\\n'.format(len(scenes)))\n",
    "\n",
    "    # If any scenes exists, select the one that have the minimum cloudCover.\n",
    "    if len(scenes):\n",
    "        scene = scenes.sort_values('cloudCover').iloc[0]\n",
    "\n",
    "    # Add the selected scene to the bulk download list.\n",
    "    bulk_list.append(scene)\n"
   ]
  },
  {
   "cell_type": "code",
   "execution_count": 56,
   "metadata": {
    "collapsed": true,
    "jupyter": {
     "outputs_hidden": true
    }
   },
   "outputs": [
    {
     "data": {
      "text/plain": [
       "[productId                   LC08_L1TP_173034_20180711_20180717_01_T1\n",
       " entityId                                       LC81730342018192LGN00\n",
       " acquisitionDate                           2018-07-11 08:02:28.153957\n",
       " cloudCover                                                         0\n",
       " processingLevel                                                 L1TP\n",
       " path                                                             173\n",
       " row                                                               34\n",
       " min_lat                                                      36.3942\n",
       " min_lon                                                      37.2598\n",
       " max_lat                                                      38.5214\n",
       " max_lon                                                      39.8978\n",
       " download_url       https://s3-us-west-2.amazonaws.com/landsat-pds...\n",
       " Name: 584327, dtype: object,\n",
       " productId                   LC08_L1TP_172034_20180704_20180717_01_T1\n",
       " entityId                                       LC81720342018185LGN00\n",
       " acquisitionDate                           2018-07-04 07:56:13.941546\n",
       " cloudCover                                                         0\n",
       " processingLevel                                                 L1TP\n",
       " path                                                             172\n",
       " row                                                               34\n",
       " min_lat                                                      36.3982\n",
       " min_lon                                                      38.8394\n",
       " max_lat                                                      38.5288\n",
       " max_lon                                                      41.4063\n",
       " download_url       https://s3-us-west-2.amazonaws.com/landsat-pds...\n",
       " Name: 573660, dtype: object,\n",
       " productId                   LC08_L1TP_172035_20180704_20180717_01_T1\n",
       " entityId                                       LC81720352018185LGN00\n",
       " acquisitionDate                           2018-07-04 07:56:37.828349\n",
       " cloudCover                                                         0\n",
       " processingLevel                                                 L1TP\n",
       " path                                                             172\n",
       " row                                                               35\n",
       " min_lat                                                      34.9701\n",
       " min_lon                                                       38.434\n",
       " max_lat                                                      37.0945\n",
       " max_lon                                                      40.9695\n",
       " download_url       https://s3-us-west-2.amazonaws.com/landsat-pds...\n",
       " Name: 583578, dtype: object]"
      ]
     },
     "execution_count": 56,
     "metadata": {},
     "output_type": "execute_result"
    }
   ],
   "source": [
    "bulk_list"
   ]
  },
  {
   "cell_type": "code",
   "execution_count": 57,
   "metadata": {},
   "outputs": [
    {
     "data": {
      "text/plain": [
       "3"
      ]
     },
     "execution_count": 57,
     "metadata": {},
     "output_type": "execute_result"
    }
   ],
   "source": [
    "bulk_list_new=[]\n",
    "for index,i in enumerate(bulk_list,0):\n",
    "    if i.productId!=bulk_list[index-1].productId:\n",
    "        bulk_list_new.append(i)\n",
    "    elif len(bulk_list)==1:\n",
    "        bulk_list_new.append(i)\n",
    "        \n",
    "len(bulk_list_new)"
   ]
  },
  {
   "cell_type": "code",
   "execution_count": 58,
   "metadata": {},
   "outputs": [],
   "source": [
    "bulk_frame_result = pd.concat(bulk_list_new, 1).T\n"
   ]
  },
  {
   "cell_type": "code",
   "execution_count": 59,
   "metadata": {},
   "outputs": [
    {
     "data": {
      "text/html": [
       "<div>\n",
       "<style scoped>\n",
       "    .dataframe tbody tr th:only-of-type {\n",
       "        vertical-align: middle;\n",
       "    }\n",
       "\n",
       "    .dataframe tbody tr th {\n",
       "        vertical-align: top;\n",
       "    }\n",
       "\n",
       "    .dataframe thead th {\n",
       "        text-align: right;\n",
       "    }\n",
       "</style>\n",
       "<table border=\"1\" class=\"dataframe\">\n",
       "  <thead>\n",
       "    <tr style=\"text-align: right;\">\n",
       "      <th></th>\n",
       "      <th>productId</th>\n",
       "      <th>entityId</th>\n",
       "      <th>acquisitionDate</th>\n",
       "      <th>cloudCover</th>\n",
       "      <th>processingLevel</th>\n",
       "      <th>path</th>\n",
       "      <th>row</th>\n",
       "      <th>min_lat</th>\n",
       "      <th>min_lon</th>\n",
       "      <th>max_lat</th>\n",
       "      <th>max_lon</th>\n",
       "      <th>download_url</th>\n",
       "    </tr>\n",
       "  </thead>\n",
       "  <tbody>\n",
       "    <tr>\n",
       "      <td>584327</td>\n",
       "      <td>LC08_L1TP_173034_20180711_20180717_01_T1</td>\n",
       "      <td>LC81730342018192LGN00</td>\n",
       "      <td>2018-07-11 08:02:28.153957</td>\n",
       "      <td>0</td>\n",
       "      <td>L1TP</td>\n",
       "      <td>173</td>\n",
       "      <td>34</td>\n",
       "      <td>36.3942</td>\n",
       "      <td>37.2598</td>\n",
       "      <td>38.5214</td>\n",
       "      <td>39.8978</td>\n",
       "      <td>https://s3-us-west-2.amazonaws.com/landsat-pds...</td>\n",
       "    </tr>\n",
       "    <tr>\n",
       "      <td>573660</td>\n",
       "      <td>LC08_L1TP_172034_20180704_20180717_01_T1</td>\n",
       "      <td>LC81720342018185LGN00</td>\n",
       "      <td>2018-07-04 07:56:13.941546</td>\n",
       "      <td>0</td>\n",
       "      <td>L1TP</td>\n",
       "      <td>172</td>\n",
       "      <td>34</td>\n",
       "      <td>36.3982</td>\n",
       "      <td>38.8394</td>\n",
       "      <td>38.5288</td>\n",
       "      <td>41.4063</td>\n",
       "      <td>https://s3-us-west-2.amazonaws.com/landsat-pds...</td>\n",
       "    </tr>\n",
       "    <tr>\n",
       "      <td>583578</td>\n",
       "      <td>LC08_L1TP_172035_20180704_20180717_01_T1</td>\n",
       "      <td>LC81720352018185LGN00</td>\n",
       "      <td>2018-07-04 07:56:37.828349</td>\n",
       "      <td>0</td>\n",
       "      <td>L1TP</td>\n",
       "      <td>172</td>\n",
       "      <td>35</td>\n",
       "      <td>34.9701</td>\n",
       "      <td>38.434</td>\n",
       "      <td>37.0945</td>\n",
       "      <td>40.9695</td>\n",
       "      <td>https://s3-us-west-2.amazonaws.com/landsat-pds...</td>\n",
       "    </tr>\n",
       "  </tbody>\n",
       "</table>\n",
       "</div>"
      ],
      "text/plain": [
       "                                       productId               entityId  \\\n",
       "584327  LC08_L1TP_173034_20180711_20180717_01_T1  LC81730342018192LGN00   \n",
       "573660  LC08_L1TP_172034_20180704_20180717_01_T1  LC81720342018185LGN00   \n",
       "583578  LC08_L1TP_172035_20180704_20180717_01_T1  LC81720352018185LGN00   \n",
       "\n",
       "                   acquisitionDate cloudCover processingLevel path row  \\\n",
       "584327  2018-07-11 08:02:28.153957          0            L1TP  173  34   \n",
       "573660  2018-07-04 07:56:13.941546          0            L1TP  172  34   \n",
       "583578  2018-07-04 07:56:37.828349          0            L1TP  172  35   \n",
       "\n",
       "        min_lat  min_lon  max_lat  max_lon  \\\n",
       "584327  36.3942  37.2598  38.5214  39.8978   \n",
       "573660  36.3982  38.8394  38.5288  41.4063   \n",
       "583578  34.9701   38.434  37.0945  40.9695   \n",
       "\n",
       "                                             download_url  \n",
       "584327  https://s3-us-west-2.amazonaws.com/landsat-pds...  \n",
       "573660  https://s3-us-west-2.amazonaws.com/landsat-pds...  \n",
       "583578  https://s3-us-west-2.amazonaws.com/landsat-pds...  "
      ]
     },
     "execution_count": 59,
     "metadata": {},
     "output_type": "execute_result"
    }
   ],
   "source": [
    "bulk_frame_result.sort_values('cloudCover',ascending=True)"
   ]
  },
  {
   "cell_type": "markdown",
   "metadata": {},
   "source": [
    "## Delete image from bulk_frame_result according to path-row information\n",
    "bulk_frame.loc[(bulk_frame['path']==172) & (bulk_frame['row']==35)]\n",
    "\n",
    "bulk_frame=bulk_frame.drop(productId)\n",
    "\n",
    "bulk_frame"
   ]
  },
  {
   "cell_type": "code",
   "execution_count": 60,
   "metadata": {},
   "outputs": [],
   "source": [
    "zoom = 6\n",
    "# Create the new map from selected images\n",
    "n = folium.Map(location=center, zoom_start=zoom)"
   ]
  },
  {
   "cell_type": "code",
   "execution_count": 61,
   "metadata": {},
   "outputs": [],
   "source": [
    "# Iterate through each Polygon of paths and rows intersecting the area\n",
    "for i, row in bulk_frame_result.iterrows():\n",
    "    #image=bulk_frame_result.loc[i]    \n",
    "    lat_point_list = [row.max_lat, row.max_lat, row.min_lat,row.min_lat] \n",
    "    lon_point_list = [row.min_lon, row.max_lon, row.max_lon,row.min_lon]\n",
    "    polygon_geom = Polygon(zip(lon_point_list, lat_point_list))\n",
    "    crs = {'init': 'epsg:4326'}\n",
    "    polygon = gpd.GeoDataFrame(index=[0], crs=crs, geometry=[polygon_geom])    \n",
    "    # Create a string for the name containing the path and row of this Polygon\n",
    "    name = 'path: %03d, row: %03d' % (row.path, row.row)\n",
    "    # Create the folium geometry of this Polygon \n",
    "    g = folium.GeoJson(polygon.__geo_interface__, name=name)\n",
    "    # Add a folium Popup object with the name string\n",
    "    g.add_child(folium.Popup(name))\n",
    "    # Add the object to the map\n",
    "    g.add_to(n)\n",
    "    "
   ]
  },
  {
   "cell_type": "code",
   "execution_count": 62,
   "metadata": {},
   "outputs": [
    {
     "data": {
      "text/html": [
       "<div style=\"width:100%;\"><div style=\"position:relative;width:100%;height:0;padding-bottom:60%;\"><iframe src=\"data:text/html;charset=utf-8;base64,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\" style=\"position:absolute;width:100%;height:100%;left:0;top:0;border:none !important;\" allowfullscreen webkitallowfullscreen mozallowfullscreen></iframe></div></div>"
      ],
      "text/plain": [
       "<folium.folium.Map at 0x7f0461172b70>"
      ]
     },
     "execution_count": 62,
     "metadata": {},
     "output_type": "execute_result"
    }
   ],
   "source": [
    "folium.LayerControl().add_to(n)\n",
    "n.save('results.html')\n",
    "n"
   ]
  },
  {
   "cell_type": "code",
   "execution_count": 63,
   "metadata": {},
   "outputs": [],
   "source": [
    "def ImageDownload(bandlist,bulk_frame,download_path='./'):\n",
    "    start_time = time.time()\n",
    "    for i,row in bulk_frame.iterrows():\n",
    "                \n",
    "        for band in bandlist:                                                                  \n",
    "            response = requests.get(row.download_url)\n",
    "            if response.status_code == 200:\n",
    "                if os.path.exists(download_path+row.productId)==False:\n",
    "                    os.makedirs(download_path+row.productId)\n",
    "                    \n",
    "                \n",
    "                image_dir=download_path+row.productId+'/'\n",
    "                print(image_dir)\n",
    "                url = row.download_url[:-10]\n",
    "                image = row.productId+'_B{}.TIF'.format(band)\n",
    "                image_path=image_dir+image\n",
    "                response = requests.get(url+image, stream=True)\n",
    "                #translate_path=image_dir+'4326/'+image\n",
    "                #print(translate_path)\n",
    "                \n",
    "                with open(os.path.join(image_path), 'wb') as output:\n",
    "                    shutil.copyfileobj(response.raw, output)\n",
    "                    #gdal.Warp(translate_path ,image_path, format = 'GTiff', dstSRS = 'EPSG:4326',srcNodata = 0,dstNodata=0)\n",
    "                \n",
    "                \n",
    "                del response\n",
    "                \n",
    "        metadata=row.productId+'_MTL.json'\n",
    "        response_MTL = requests.get(url+metadata, stream=True)\n",
    "    \n",
    "        with open(os.path.join(image_dir+metadata), 'wb') as output:\n",
    "            shutil.copyfileobj(response_MTL.raw, output)\n",
    "        del response_MTL\n",
    "        print(image_dir+metadata)\n",
    "        quality_ass=row.productId+'_BQA.TIF'\n",
    "        response_QA = requests.get(url+quality_ass, stream=True)\n",
    "        \n",
    "        with open(os.path.join(image_dir+quality_ass), 'wb') as output:\n",
    "            shutil.copyfileobj(response_QA.raw, output)\n",
    "        print(image_dir+quality_ass)\n",
    "    print(\"--- %s seconds ---\" % (time.time() - start_time))"
   ]
  },
  {
   "cell_type": "code",
   "execution_count": 64,
   "metadata": {},
   "outputs": [],
   "source": [
    "download_path='../mardin/'\n",
    "if not os.path.isdir(download_path):\n",
    "    os.mkdir(download_path)"
   ]
  },
  {
   "cell_type": "code",
   "execution_count": 65,
   "metadata": {},
   "outputs": [],
   "source": [
    "#https://www.usgs.gov/faqs/what-are-best-landsat-spectral-bands-use-my-research?qt-news_science_products=0#qt-news_science_products\n",
    "landsat_bands={'coastal aerosol':1,'blue':2,'green':3,'red':4,'Near Infrared (NIR)':5,\n",
    "              'Short-wave Infrared(SWIR)1':6,'Short-wave Infrared(SWIR)2':7,'Panchromatic':8,\n",
    "              'Cirrus':9,'TIRS1':10,'TIRS2':11}"
   ]
  },
  {
   "cell_type": "code",
   "execution_count": 66,
   "metadata": {},
   "outputs": [],
   "source": [
    "#bands=[2,3,4,5,6,7,8,9,10]\n",
    "bands=[2,3,4,5]"
   ]
  },
  {
   "cell_type": "code",
   "execution_count": 67,
   "metadata": {},
   "outputs": [
    {
     "name": "stdout",
     "output_type": "stream",
     "text": [
      "../mardin/LC08_L1TP_173034_20180711_20180717_01_T1/\n",
      "../mardin/LC08_L1TP_173034_20180711_20180717_01_T1/\n",
      "../mardin/LC08_L1TP_173034_20180711_20180717_01_T1/\n",
      "../mardin/LC08_L1TP_173034_20180711_20180717_01_T1/\n",
      "../mardin/LC08_L1TP_173034_20180711_20180717_01_T1/LC08_L1TP_173034_20180711_20180717_01_T1_MTL.json\n",
      "../mardin/LC08_L1TP_173034_20180711_20180717_01_T1/LC08_L1TP_173034_20180711_20180717_01_T1_BQA.TIF\n",
      "../mardin/LC08_L1TP_172034_20180704_20180717_01_T1/\n",
      "../mardin/LC08_L1TP_172034_20180704_20180717_01_T1/\n",
      "../mardin/LC08_L1TP_172034_20180704_20180717_01_T1/\n",
      "../mardin/LC08_L1TP_172034_20180704_20180717_01_T1/\n",
      "../mardin/LC08_L1TP_172034_20180704_20180717_01_T1/LC08_L1TP_172034_20180704_20180717_01_T1_MTL.json\n",
      "../mardin/LC08_L1TP_172034_20180704_20180717_01_T1/LC08_L1TP_172034_20180704_20180717_01_T1_BQA.TIF\n",
      "../mardin/LC08_L1TP_172035_20180704_20180717_01_T1/\n",
      "../mardin/LC08_L1TP_172035_20180704_20180717_01_T1/\n",
      "../mardin/LC08_L1TP_172035_20180704_20180717_01_T1/\n",
      "../mardin/LC08_L1TP_172035_20180704_20180717_01_T1/\n",
      "../mardin/LC08_L1TP_172035_20180704_20180717_01_T1/LC08_L1TP_172035_20180704_20180717_01_T1_MTL.json\n",
      "../mardin/LC08_L1TP_172035_20180704_20180717_01_T1/LC08_L1TP_172035_20180704_20180717_01_T1_BQA.TIF\n",
      "--- 96.13809847831726 seconds ---\n"
     ]
    }
   ],
   "source": [
    "ImageDownload(bands,bulk_frame_result,download_path)"
   ]
  },
  {
   "cell_type": "code",
   "execution_count": null,
   "metadata": {},
   "outputs": [],
   "source": []
  }
 ],
 "metadata": {
  "kernelspec": {
   "display_name": "Python 3",
   "language": "python",
   "name": "python3"
  },
  "language_info": {
   "codemirror_mode": {
    "name": "ipython",
    "version": 3
   },
   "file_extension": ".py",
   "mimetype": "text/x-python",
   "name": "python",
   "nbconvert_exporter": "python",
   "pygments_lexer": "ipython3",
   "version": "3.6.9"
  }
 },
 "nbformat": 4,
 "nbformat_minor": 4
}
