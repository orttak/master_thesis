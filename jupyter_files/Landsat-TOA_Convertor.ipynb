{
 "cells": [
  {
   "cell_type": "code",
   "execution_count": 211,
   "metadata": {},
   "outputs": [],
   "source": [
    "#http://geologyandpython.com/toa-landsat-8.html\n",
    "#https://nbviewer.jupyter.org/github/mapbox/rio-cloudmask/blob/master/examples/Landsat8_Examples.ipynb"
   ]
  },
  {
   "cell_type": "code",
   "execution_count": 7,
   "metadata": {},
   "outputs": [],
   "source": [
    "from glob import glob\n",
    "import os\n",
    "import shutil\n",
    "import numpy as np\n",
    "import matplotlib.pyplot as plt\n",
    "import rasterio\n",
    "from l8qa.qa import write_cloud_mask\n",
    "from rio_toa import reflectance\n",
    "from rio_toa import sun_utils, toa_utils\n",
    "from rio_toa.toa_utils import rescale, _parse_bands_from_filename\n",
    "from rio_toa.reflectance import calculate_landsat_reflectance\n",
    "from rio_toa.brightness_temp import calculate_landsat_brightness_temperature\n",
    "from rio_color.operations import parse_operations\n",
    "import warnings\n",
    "warnings.simplefilter(action='ignore', category=FutureWarning)\n",
    "warnings.simplefilter(action='ignore', category=UserWarning)\n",
    "%matplotlib inline\n"
   ]
  },
  {
   "cell_type": "code",
   "execution_count": 2,
   "metadata": {},
   "outputs": [],
   "source": [
    "##create cloud mask"
   ]
  },
  {
   "cell_type": "code",
   "execution_count": 3,
   "metadata": {
    "collapsed": true,
    "jupyter": {
     "outputs_hidden": true
    }
   },
   "outputs": [
    {
     "ename": "NameError",
     "evalue": "name 'landsat_folders_path' is not defined",
     "output_type": "error",
     "traceback": [
      "\u001b[0;31m---------------------------------------------------------------------------\u001b[0m",
      "\u001b[0;31mNameError\u001b[0m                                 Traceback (most recent call last)",
      "\u001b[0;32m<ipython-input-3-96d915328d02>\u001b[0m in \u001b[0;36m<module>\u001b[0;34m\u001b[0m\n\u001b[0;32m----> 1\u001b[0;31m \u001b[0;32mfor\u001b[0m \u001b[0mfolder\u001b[0m \u001b[0;32min\u001b[0m \u001b[0mlandsat_folders_path\u001b[0m\u001b[0;34m:\u001b[0m\u001b[0;34m\u001b[0m\u001b[0;34m\u001b[0m\u001b[0m\n\u001b[0m\u001b[1;32m      2\u001b[0m     \u001b[0mprint\u001b[0m\u001b[0;34m(\u001b[0m\u001b[0mfolder\u001b[0m\u001b[0;34m)\u001b[0m\u001b[0;34m\u001b[0m\u001b[0;34m\u001b[0m\u001b[0m\n\u001b[1;32m      3\u001b[0m     \u001b[0mfolder_name\u001b[0m \u001b[0;34m=\u001b[0m \u001b[0mos\u001b[0m\u001b[0;34m.\u001b[0m\u001b[0mpath\u001b[0m\u001b[0;34m.\u001b[0m\u001b[0msplit\u001b[0m\u001b[0;34m(\u001b[0m\u001b[0msrc_folder\u001b[0m\u001b[0;34m[\u001b[0m\u001b[0;34m:\u001b[0m\u001b[0;34m-\u001b[0m\u001b[0;36m1\u001b[0m\u001b[0;34m]\u001b[0m\u001b[0;34m)\u001b[0m\u001b[0;34m[\u001b[0m\u001b[0;34m-\u001b[0m\u001b[0;36m1\u001b[0m\u001b[0;34m]\u001b[0m\u001b[0;34m\u001b[0m\u001b[0;34m\u001b[0m\u001b[0m\n\u001b[1;32m      4\u001b[0m     \u001b[0mdst_folder\u001b[0m \u001b[0;34m=\u001b[0m \u001b[0mos\u001b[0m\u001b[0;34m.\u001b[0m\u001b[0mpath\u001b[0m\u001b[0;34m.\u001b[0m\u001b[0mjoin\u001b[0m\u001b[0;34m(\u001b[0m\u001b[0mfolder\u001b[0m\u001b[0;34m,\u001b[0m \u001b[0mfolder_name\u001b[0m\u001b[0;34m+\u001b[0m\u001b[0;34m'_TOA'\u001b[0m\u001b[0;34m)\u001b[0m\u001b[0;34m\u001b[0m\u001b[0;34m\u001b[0m\u001b[0m\n\u001b[1;32m      5\u001b[0m     \u001b[0mos\u001b[0m\u001b[0;34m.\u001b[0m\u001b[0mmakedirs\u001b[0m\u001b[0;34m(\u001b[0m\u001b[0mdst_folder\u001b[0m\u001b[0;34m,\u001b[0m \u001b[0mexist_ok\u001b[0m\u001b[0;34m=\u001b[0m\u001b[0;32mTrue\u001b[0m\u001b[0;34m)\u001b[0m\u001b[0;34m\u001b[0m\u001b[0;34m\u001b[0m\u001b[0m\n",
      "\u001b[0;31mNameError\u001b[0m: name 'landsat_folders_path' is not defined"
     ]
    }
   ],
   "source": [
    "for folder in landsat_folders_path:\n",
    "    print(folder)\n",
    "    folder_name = os.path.split(src_folder[:-1])[-1]\n",
    "    dst_folder = os.path.join(folder, folder_name+'_TOA')\n",
    "    os.makedirs(dst_folder, exist_ok=True)\n",
    "    search_criteria = \"*.TIF\"\n",
    "    glob_creteria= os.path.join(folder, search_criteria)\n",
    "    src_mtl = glob(os.path.join(src_folder, '*MTL*'))[0]\n",
    "    src_qa = glob(os.path.join(src_folder, '*QA*'))[0]\n",
    "    with rasterio.open(src_qa) as qa_raster:\n",
    "        # Update the raster profile to use 0 as 'nodata'\n",
    "        profile = qa_raster.profile\n",
    "        profile.update(nodata=0)\n",
    "        #Call `write_cloud_mask` to create a mask where the QA points to clouds.\n",
    "        write_cloud_mask(qa_raster.read(1), profile, os.path.join(dst_folder, folder_name+'_cloudmask.TIF'))\n",
    "    print('----------------------')\n",
    "\n"
   ]
  },
  {
   "cell_type": "code",
   "execution_count": 68,
   "metadata": {},
   "outputs": [],
   "source": [
    "#calculate TOA"
   ]
  },
  {
   "cell_type": "code",
   "execution_count": 8,
   "metadata": {},
   "outputs": [],
   "source": [
    "def read_toa(fname,dst_path, mtl):\n",
    "    creation_options = {'nodata': 0,'compress': 'deflate','predict': 2}\n",
    "    try:\n",
    "        bandnum = _parse_bands_from_filename([fname], '.*/LC08.*\\_B{b}.TIF')\n",
    "        print(bandnum)\n",
    "    \n",
    "    \n",
    "    \n",
    "\n",
    "        if bandnum[0] in (10, 11):\n",
    "            dir_path=os.path.dirname(dst_path)\n",
    "            folder_name = os.path.split(dst_path)[-1]\n",
    "            folder_name=folder_name.replace('TOA','BTMP')\n",
    "            dst_path=dir_path+'/'+folder_name\n",
    "            #print(dst_path)\n",
    "            calculate_landsat_brightness_temperature(\n",
    "                fname, mtl, dst_path, 'C', {}, 10, 'float32', 8)\n",
    "            \n",
    "        else:\n",
    "            calculate_landsat_reflectance(\n",
    "                [fname], mtl, dst_path,rescale_factor = 55000,\n",
    "                creation_options= creation_options, \n",
    "                bands=bandnum, dst_dtype = 'uint16', processes = 4, \n",
    "                pixel_sunangle=True)\n",
    "            '''\n",
    "            with rasterio.open(dst_path) as src:\n",
    "            arr = src.read(1)\n",
    "            return arr\n",
    "            ''' \n",
    "    except ValueError:\n",
    "            pass"
   ]
  },
  {
   "cell_type": "code",
   "execution_count": 9,
   "metadata": {},
   "outputs": [],
   "source": [
    "def create_toa(landsat_folders_path):\n",
    "        \n",
    "    if type(landsat_folders_path)==type(list()) :\n",
    "        \n",
    "        for folder in landsat_folders_path:\n",
    "            #print(folder)\n",
    "            folder_name = os.path.split(folder[:-1])[-1]\n",
    "            dst_folder = os.path.join(folder, folder_name+'_TOA')\n",
    "            os.makedirs(dst_folder, exist_ok=True)\n",
    "            search_criteria = \"*.TIF\"\n",
    "            glob_creteria = os.path.join(folder, search_criteria)       \n",
    "            src_mtl = glob(os.path.join(folder, '*MTL*'))[0]\n",
    "            landsat_bands = glob(glob_creteria)\n",
    "            landsat_bands=sorted(landsat_bands)\n",
    "            #print(landsat_bands)\n",
    "            \n",
    "            for i in landsat_bands:\n",
    "                if i[-7:-4]=='BQA':\n",
    "                    continue\n",
    "                else:\n",
    "    \n",
    "                    img_name='TOA_'+os.path.basename(i)\n",
    "                    dst_path = os.path.join(dst_folder,img_name)\n",
    "                    #print(i)\n",
    "                    #print(dst_path)\n",
    "                    #print(src_mtl)\n",
    "                    read_toa(i,dst_path,src_mtl)\n",
    "                    \n",
    "                    print(dst_path)               \n",
    "                    \n",
    "            print('------------')\n",
    "    else:\n",
    "            folder_name = os.path.split(landsat_folders_path[:-1])[-1]\n",
    "            dst_folder = os.path.join(landsat_folders_path, folder_name+'_TOA')\n",
    "            print(dst_folder)\n",
    "            print('--------folder----')\n",
    "            os.makedirs(dst_folder, exist_ok=True)\n",
    "            search_criteria = \"*.TIF\"\n",
    "            glob_creteria = os.path.join(landsat_folders_path, search_criteria)       \n",
    "            src_mtl = glob(os.path.join(landsat_folders_path, '*MTL*'))[0]\n",
    "            landsat_bands = glob(glob_creteria)\n",
    "            landsat_bands=sorted(landsat_bands)\n",
    "            for i in landsat_bands:\n",
    "                if i[-7:-4]=='BQA':\n",
    "                    continue\n",
    "                else:\n",
    "                    img_name='TOA_'+os.path.basename(i)\n",
    "                    dst_path = os.path.join(dst_folder,img_name)\n",
    "                    read_toa(i,dst_path,src_mtl)\n",
    "                    print('------Calculate finished------')\n",
    "                    print(dst_path)               \n",
    "                    \n",
    "            print('------------')\n"
   ]
  },
  {
   "cell_type": "code",
   "execution_count": 10,
   "metadata": {},
   "outputs": [
    {
     "data": {
      "text/plain": [
       "['../mardin/LC08_L1TP_172034_20180704_20180717_01_T1',\n",
       " '../mardin/LC08_L1TP_172035_20180704_20180717_01_T1',\n",
       " '../mardin/LC08_L1TP_173034_20180711_20180717_01_T1']"
      ]
     },
     "execution_count": 10,
     "metadata": {},
     "output_type": "execute_result"
    }
   ],
   "source": [
    "SRC_LANDSAT_FOLDER = '../mardin/'\n",
    "#Find Landsat images' folder \n",
    "landsat_folders_path = glob(os.path.join(SRC_LANDSAT_FOLDER, 'L*'))\n",
    "landsat_folders_path"
   ]
  },
  {
   "cell_type": "code",
   "execution_count": 11,
   "metadata": {},
   "outputs": [
    {
     "data": {
      "text/plain": [
       "['../mardin/LC08_L1TP_172034_20180704_20180717_01_T1',\n",
       " '../mardin/LC08_L1TP_172035_20180704_20180717_01_T1',\n",
       " '../mardin/LC08_L1TP_173034_20180711_20180717_01_T1']"
      ]
     },
     "execution_count": 11,
     "metadata": {},
     "output_type": "execute_result"
    }
   ],
   "source": [
    "landsat_folders_path=sorted(landsat_folders_path)\n",
    "landsat_folders_path"
   ]
  },
  {
   "cell_type": "code",
   "execution_count": 12,
   "metadata": {},
   "outputs": [
    {
     "name": "stdout",
     "output_type": "stream",
     "text": [
      "[2]\n",
      "../mardin/LC08_L1TP_172034_20180704_20180717_01_T1/LC08_L1TP_172034_20180704_20180717_01_T_TOA/TOA_LC08_L1TP_172034_20180704_20180717_01_T1_B2.TIF\n",
      "[3]\n",
      "../mardin/LC08_L1TP_172034_20180704_20180717_01_T1/LC08_L1TP_172034_20180704_20180717_01_T_TOA/TOA_LC08_L1TP_172034_20180704_20180717_01_T1_B3.TIF\n",
      "[4]\n",
      "../mardin/LC08_L1TP_172034_20180704_20180717_01_T1/LC08_L1TP_172034_20180704_20180717_01_T_TOA/TOA_LC08_L1TP_172034_20180704_20180717_01_T1_B4.TIF\n",
      "[5]\n",
      "../mardin/LC08_L1TP_172034_20180704_20180717_01_T1/LC08_L1TP_172034_20180704_20180717_01_T_TOA/TOA_LC08_L1TP_172034_20180704_20180717_01_T1_B5.TIF\n",
      "------------\n",
      "[2]\n",
      "../mardin/LC08_L1TP_172035_20180704_20180717_01_T1/LC08_L1TP_172035_20180704_20180717_01_T_TOA/TOA_LC08_L1TP_172035_20180704_20180717_01_T1_B2.TIF\n",
      "[3]\n",
      "../mardin/LC08_L1TP_172035_20180704_20180717_01_T1/LC08_L1TP_172035_20180704_20180717_01_T_TOA/TOA_LC08_L1TP_172035_20180704_20180717_01_T1_B3.TIF\n",
      "[4]\n",
      "../mardin/LC08_L1TP_172035_20180704_20180717_01_T1/LC08_L1TP_172035_20180704_20180717_01_T_TOA/TOA_LC08_L1TP_172035_20180704_20180717_01_T1_B4.TIF\n",
      "[5]\n",
      "../mardin/LC08_L1TP_172035_20180704_20180717_01_T1/LC08_L1TP_172035_20180704_20180717_01_T_TOA/TOA_LC08_L1TP_172035_20180704_20180717_01_T1_B5.TIF\n",
      "------------\n",
      "[2]\n",
      "../mardin/LC08_L1TP_173034_20180711_20180717_01_T1/LC08_L1TP_173034_20180711_20180717_01_T_TOA/TOA_LC08_L1TP_173034_20180711_20180717_01_T1_B2.TIF\n",
      "[3]\n",
      "../mardin/LC08_L1TP_173034_20180711_20180717_01_T1/LC08_L1TP_173034_20180711_20180717_01_T_TOA/TOA_LC08_L1TP_173034_20180711_20180717_01_T1_B3.TIF\n",
      "[4]\n",
      "../mardin/LC08_L1TP_173034_20180711_20180717_01_T1/LC08_L1TP_173034_20180711_20180717_01_T_TOA/TOA_LC08_L1TP_173034_20180711_20180717_01_T1_B4.TIF\n",
      "[5]\n",
      "../mardin/LC08_L1TP_173034_20180711_20180717_01_T1/LC08_L1TP_173034_20180711_20180717_01_T_TOA/TOA_LC08_L1TP_173034_20180711_20180717_01_T1_B5.TIF\n",
      "------------\n"
     ]
    }
   ],
   "source": [
    "create_toa(landsat_folders_path)"
   ]
  },
  {
   "cell_type": "code",
   "execution_count": null,
   "metadata": {},
   "outputs": [],
   "source": []
  }
 ],
 "metadata": {
  "kernelspec": {
   "display_name": "Python 3",
   "language": "python",
   "name": "python3"
  },
  "language_info": {
   "codemirror_mode": {
    "name": "ipython",
    "version": 3
   },
   "file_extension": ".py",
   "mimetype": "text/x-python",
   "name": "python",
   "nbconvert_exporter": "python",
   "pygments_lexer": "ipython3",
   "version": "3.6.9"
  }
 },
 "nbformat": 4,
 "nbformat_minor": 4
}
